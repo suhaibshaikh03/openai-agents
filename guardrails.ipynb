{
  "cells": [
    {
      "cell_type": "markdown",
      "metadata": {
        "id": "JtKpusSwWIZY"
      },
      "source": [
        "# **Guardrails**"
      ]
    },
    {
      "cell_type": "markdown",
      "metadata": {
        "id": "MagfdaZ7WpAq"
      },
      "source": [
        "Summary: OpenAI have also included guardrails in the Agents SDK. These come as input guardrails and output guardrails, the input_guardrail checks that the input going into your LLM is \"safe\" and the output_guardrail checks that the output from your LLM is \"safe\".\n",
        "\n",
        "Guardrails run in parallel to your agents, enabling you to do checks and validations of user input. For example, imagine you have an agent that uses a very smart (and hence slow/expensive) model to help with customer requests. You wouldn't want malicious users to ask the model to help them with their math homework. So, you can run a guardrail with a fast/cheap model. If the guardrail detects malicious usage, it can immediately raise an error, which stops the expensive model from running and saves you time/money.\n",
        "\n",
        "There are two kinds of guardrails:\n",
        "\n",
        "1. Input guardrails run on the initial user input\n",
        "2. Output guardrails run on the final agent output\n",
        "\n",
        "Reference:\n",
        "https://openai.github.io/openai-agents-python/guardrails/\n"
      ]
    },
    {
      "cell_type": "markdown",
      "metadata": {
        "id": "9naM69-5WOiu"
      },
      "source": [
        "## Input guardrails"
      ]
    },
    {
      "cell_type": "markdown",
      "metadata": {
        "id": "Oi2jwrR7XCAc"
      },
      "source": [
        "Input guardrails run in 3 steps:\n",
        "\n",
        "1. First, the guardrail receives the same input passed to the agent.\n",
        "2. Next, the guardrail function runs to produce a GuardrailFunctionOutput, which is then wrapped in an InputGuardrailResult\n",
        "3. Finally, we check if .tripwire_triggered is true. If true, an InputGuardrailTripwireTriggered exception is raised, so you can appropriately respond to the user or handle the exception."
      ]
    },
    {
      "cell_type": "markdown",
      "metadata": {
        "id": "4-urr2StXat1"
      },
      "source": [
        "Input guardrails are intended to run on user input, so an agent's guardrails only run if the agent is the first agent. You might wonder, why is the guardrails property on the agent instead of passed to Runner.run? It's because guardrails tend to be related to the actual Agent - you'd run different guardrails for different agents, so colocating the code is useful for readability."
      ]
    },
    {
      "cell_type": "markdown",
      "metadata": {
        "id": "jeAi3NRPeMNh"
      },
      "source": []
    },
    {
      "cell_type": "markdown",
      "metadata": {
        "id": "Mvwr5szYd1I5"
      },
      "source": [
        "## Tripwires"
      ]
    },
    {
      "cell_type": "markdown",
      "metadata": {
        "id": "dg7uTOJhd9_6"
      },
      "source": [
        "If the input or output fails the guardrail, the Guardrail can signal this with a tripwire. As soon as we see a guardrail that has triggered the tripwires, we immediately raise a {Input,Output}GuardrailTripwireTriggered exception and halt the Agent execution."
      ]
    },
    {
      "cell_type": "markdown",
      "metadata": {
        "id": "PdKwzEluDBN7"
      },
      "source": [
        "# Install openai-agents SDK"
      ]
    },
    {
      "cell_type": "code",
      "execution_count": 13,
      "metadata": {
        "id": "3QdkOviEB2ay"
      },
      "outputs": [],
      "source": [
        "!pip install -Uq openai-agents pydantic"
      ]
    },
    {
      "cell_type": "markdown",
      "metadata": {
        "id": "7yD91lz4DIAx"
      },
      "source": [
        "# Make your Notebook capable of running asynchronous functions.\n",
        "Both Jupyter notebooks and Python’s asyncio library utilize event loops, but they serve different purposes and can sometimes interfere with each other.\n",
        "\n",
        "The nest_asyncio library allows the existing event loop to accept nested event loops, enabling asyncio code to run within environments that already have an event loop, such as Jupyter notebooks.\n",
        "\n",
        "In summary, both Jupyter notebooks and Python’s asyncio library utilize event loops to manage asynchronous operations. When working within Jupyter notebooks, it’s essential to be aware of the existing event loop to effectively run asyncio code without conflicts."
      ]
    },
    {
      "cell_type": "code",
      "execution_count": 14,
      "metadata": {
        "id": "C8YXyIpiZ9v4"
      },
      "outputs": [],
      "source": [
        "import nest_asyncio\n",
        "nest_asyncio.apply()"
      ]
    },
    {
      "cell_type": "code",
      "execution_count": 15,
      "metadata": {
        "id": "XnusaX_RWF22"
      },
      "outputs": [],
      "source": [
        "from pydantic import BaseModel\n",
        "from agents import (\n",
        "    Agent,\n",
        "    GuardrailFunctionOutput,\n",
        "    InputGuardrailTripwireTriggered,\n",
        "    OutputGuardrailTripwireTriggered,\n",
        "    RunContextWrapper,\n",
        "    Runner,\n",
        "    TResponseInputItem,\n",
        "    input_guardrail,\n",
        "    output_guardrail,\n",
        "    AsyncOpenAI,\n",
        "    OpenAIChatCompletionsModel,\n",
        "    RunConfig\n",
        ")\n",
        "from google.colab import userdata\n"
      ]
    },
    {
      "cell_type": "code",
      "execution_count": 16,
      "metadata": {
        "id": "oPvcFwItoKqw"
      },
      "outputs": [],
      "source": [
        "gemini_api_key = userdata.get(\"GEMINI_API_KEY\")\n",
        "\n",
        "\n"
      ]
    },
    {
      "cell_type": "code",
      "execution_count": 17,
      "metadata": {
        "id": "ci9rBxqfnyNm"
      },
      "outputs": [],
      "source": [
        "#Reference: https://ai.google.dev/gemini-api/docs/openai\n",
        "external_client = AsyncOpenAI(\n",
        "    api_key=gemini_api_key,\n",
        "    base_url=\"https://generativelanguage.googleapis.com/v1beta/openai/\",\n",
        ")\n",
        "\n",
        "model = OpenAIChatCompletionsModel(\n",
        "    model=\"gemini-2.0-flash\",\n",
        "    openai_client=external_client\n",
        ")\n",
        "\n",
        "config = RunConfig(\n",
        "    model=model,\n",
        "    model_provider=external_client,\n",
        "    tracing_disabled=True\n",
        ")\n"
      ]
    },
    {
      "cell_type": "markdown",
      "metadata": {
        "id": "SR8ARQZGAItU"
      },
      "source": [
        "## Implementation of Input Guardrail:\n",
        "Checks that the input going into your LLM is \"safe\""
      ]
    },
    {
      "cell_type": "code",
      "execution_count": 18,
      "metadata": {
        "id": "PYFkT_B-YaYh",
        "outputId": "e8d1bf67-edc0-4918-9d67-1953c2bb1011",
        "colab": {
          "base_uri": "https://localhost:8080/"
        }
      },
      "outputs": [
        {
          "output_type": "stream",
          "name": "stdout",
          "text": [
            "is_math_homework=False reasoning='The user is asking a question about geography, not math.'\n",
            "{'is_math_homework': False, 'reasoning': 'The user is asking a question about geography, not math.'}\n",
            "False\n",
            "The user is asking a question about geography, not math.\n",
            "False\n",
            "The user is asking a question about geography, not math.\n"
          ]
        }
      ],
      "source": [
        "class MathHomeworkOutput(BaseModel):\n",
        "    is_math_homework: bool\n",
        "    reasoning: str\n",
        "\n",
        "guardrail_agent = Agent(\n",
        "    name=\"Guardrail check\",\n",
        "    instructions=\"Check if the user is asking you to do their math homework.\",\n",
        "    output_type=MathHomeworkOutput,\n",
        "    model=model\n",
        ")\n",
        "\n",
        "out = Runner.run_sync(guardrail_agent,\"What is the capital of Pakistan\")\n",
        "print(out.final_output)\n",
        "print(out.final_output.model_dump())\n",
        "print(out.final_output.is_math_homework)\n",
        "print(out.final_output.reasoning)\n",
        "print(out.final_output.model_dump()['is_math_homework'])\n",
        "print(out.final_output.model_dump()['reasoning'])\n",
        "\n"
      ]
    },
    {
      "cell_type": "code",
      "source": [
        "\n",
        "@input_guardrail\n",
        "async def math_guardrail(\n",
        "    ctx: RunContextWrapper[None], agent: Agent, input: str | list[TResponseInputItem]\n",
        ") -> GuardrailFunctionOutput:\n",
        "    result = await Runner.run(guardrail_agent, input, context=ctx.context, run_config = config)\n",
        "\n",
        "    return GuardrailFunctionOutput(\n",
        "        output_info=result.final_output,\n",
        "        tripwire_triggered=result.final_output.is_math_homework is False,\n",
        "        # tripwire_triggered=result.final_output.is_math_homework,\n",
        "    )"
      ],
      "metadata": {
        "id": "naaFmZxAw6Eq"
      },
      "execution_count": 27,
      "outputs": []
    },
    {
      "cell_type": "code",
      "execution_count": 28,
      "metadata": {
        "id": "TE2j1WJ-YjNK"
      },
      "outputs": [],
      "source": [
        "agent = Agent(\n",
        "    name=\"Customer support agent\",\n",
        "    instructions=\"You are a customer support agent. You help customers with their questions.\",\n",
        "    input_guardrails=[math_guardrail],\n",
        ")"
      ]
    },
    {
      "cell_type": "code",
      "execution_count": 29,
      "metadata": {
        "colab": {
          "base_uri": "https://localhost:8080/"
        },
        "id": "xg5g0KaBYuVl",
        "outputId": "f642f37c-1f61-4c14-d9d3-387ee5988b71"
      },
      "outputs": [
        {
          "output_type": "stream",
          "name": "stdout",
          "text": [
            "Guardrail didn't trip - this is unexpected\n",
            "I can definitely help you with that! Here's how to solve for x in the equation 2x + 3 = 11:\n",
            "\n",
            "1.  **Isolate the term with x:**\n",
            "    *   Subtract 3 from both sides of the equation:\n",
            "        *   2x + 3 - 3 = 11 - 3\n",
            "        *   2x = 8\n",
            "\n",
            "2.  **Solve for x:**\n",
            "    *   Divide both sides of the equation by 2:\n",
            "        *   2x / 2 = 8 / 2\n",
            "        *   x = 4\n",
            "\n",
            "Therefore, the solution is **x = 4**.\n",
            "\n",
            "Let me know if you have any other questions!\n",
            "\n"
          ]
        }
      ],
      "source": [
        "# This should trip the guardrail\n",
        "\n",
        "try:\n",
        "    result = await Runner.run(agent, \"Hello, can you help me solve for x: 2x + 3 = 11?\", run_config = config)\n",
        "    print(\"Guardrail didn't trip - this is unexpected\")\n",
        "    print(result.final_output)\n",
        "\n",
        "except InputGuardrailTripwireTriggered:\n",
        "    print(\"Math homework guardrail tripped\")\n"
      ]
    },
    {
      "cell_type": "code",
      "execution_count": 30,
      "metadata": {
        "colab": {
          "base_uri": "https://localhost:8080/"
        },
        "id": "o4TmzNa_K7TJ",
        "outputId": "6e59ba67-eb80-4b43-c89f-13483f6cd64d"
      },
      "outputs": [
        {
          "output_type": "stream",
          "name": "stdout",
          "text": [
            "Math homework guardrail tripped\n"
          ]
        }
      ],
      "source": [
        "try:\n",
        "    result = await Runner.run(agent, \"Hello\", run_config = config)\n",
        "    print(result.final_output)\n",
        "\n",
        "except InputGuardrailTripwireTriggered:\n",
        "    print(\"Math homework guardrail tripped\")"
      ]
    },
    {
      "cell_type": "code",
      "source": [
        "try:\n",
        "    result = await Runner.run(agent, \"can you solve 2+3 for me\", run_config = config)\n",
        "    print(result.final_output)\n",
        "\n",
        "except InputGuardrailTripwireTriggered:\n",
        "    print(\"Math homework guardrail tripped\")"
      ],
      "metadata": {
        "colab": {
          "base_uri": "https://localhost:8080/"
        },
        "id": "MVa7wII5zfMK",
        "outputId": "9dee5177-1797-4994-a72f-13d0553e0e11"
      },
      "execution_count": 31,
      "outputs": [
        {
          "output_type": "stream",
          "name": "stdout",
          "text": [
            "2 + 3 = 5\n",
            "\n"
          ]
        }
      ]
    },
    {
      "cell_type": "markdown",
      "metadata": {
        "id": "8KU3X_gDsS0u"
      },
      "source": []
    },
    {
      "cell_type": "markdown",
      "metadata": {
        "id": "uARwzOgjscIi"
      },
      "source": [
        "## Implementation of Onput Guardrail:\n",
        "The output guardrail checks that the output from your LLM is \"safe\"."
      ]
    },
    {
      "cell_type": "code",
      "execution_count": 32,
      "metadata": {
        "id": "zWXqInCSsoUw"
      },
      "outputs": [],
      "source": [
        "class MessageOutput(BaseModel):\n",
        "    response: str\n",
        "\n",
        "class MathOutput(BaseModel):\n",
        "    is_math: bool\n",
        "    reasoning: str\n",
        "\n",
        "guardrail_agent2 = Agent(\n",
        "    name=\"Guardrail check\",\n",
        "    instructions=\"Check if the output includes any math.\",\n",
        "    output_type=MathOutput,\n",
        ")\n",
        "\n",
        "@output_guardrail\n",
        "async def math_guardrail2(\n",
        "    ctx: RunContextWrapper, agent: Agent, output: MessageOutput\n",
        ") -> GuardrailFunctionOutput:\n",
        "    result = await Runner.run(guardrail_agent2, output.response, context=ctx.context, run_config = config)\n",
        "\n",
        "    return GuardrailFunctionOutput(\n",
        "        output_info=result.final_output,\n",
        "        tripwire_triggered=result.final_output.is_math,\n",
        "    )"
      ]
    },
    {
      "cell_type": "code",
      "execution_count": 33,
      "metadata": {
        "id": "2OiAB8_RQ5pz"
      },
      "outputs": [],
      "source": [
        "agent2 = Agent(\n",
        "    name=\"Customer support agent\",\n",
        "    instructions=\"You are a customer support agent. You help customers with their questions.\",\n",
        "    output_guardrails=[math_guardrail2],\n",
        "    output_type=MessageOutput,\n",
        ")"
      ]
    },
    {
      "cell_type": "code",
      "execution_count": 34,
      "metadata": {
        "colab": {
          "base_uri": "https://localhost:8080/"
        },
        "id": "mj6qZTgrRz4T",
        "outputId": "e7f63cc8-0f82-4b0c-8196-6d0ae57293d2"
      },
      "outputs": [
        {
          "output_type": "stream",
          "name": "stdout",
          "text": [
            "Math output guardrail tripped\n"
          ]
        }
      ],
      "source": [
        "# This should trip the guardrail\n",
        "try:\n",
        "    await Runner.run(agent2, \"Hello, can you help me solve for x: 2x + 3 = 11?\", run_config = config)\n",
        "    print(\"Guardrail didn't trip - this is unexpected\")\n",
        "\n",
        "except OutputGuardrailTripwireTriggered:\n",
        "    print(\"Math output guardrail tripped\")"
      ]
    },
    {
      "cell_type": "code",
      "source": [
        "try:\n",
        "    a = await Runner.run(agent2, \"Hello\", run_config = config)\n",
        "    print(\"Guardrail didn't trip - this is unexpected\")\n",
        "    print(a.final_output.model_dump())\n",
        "    print(a.final_output.response)\n",
        "\n",
        "except OutputGuardrailTripwireTriggered:\n",
        "    print(\"Math output guardrail tripped\")"
      ],
      "metadata": {
        "id": "hrtNzXt3zMOk",
        "outputId": "ec0484b8-d2d4-4aa5-b6ac-0f831c86c02c",
        "colab": {
          "base_uri": "https://localhost:8080/"
        }
      },
      "execution_count": 38,
      "outputs": [
        {
          "output_type": "stream",
          "name": "stdout",
          "text": [
            "Guardrail didn't trip - this is unexpected\n",
            "{'response': 'Hello! How can I help you today?'}\n",
            "Hello! How can I help you today?\n"
          ]
        }
      ]
    },
    {
      "cell_type": "code",
      "source": [],
      "metadata": {
        "id": "WVVd9jQZz1e9"
      },
      "execution_count": null,
      "outputs": []
    }
  ],
  "metadata": {
    "colab": {
      "provenance": []
    },
    "kernelspec": {
      "display_name": "Python 3",
      "name": "python3"
    },
    "language_info": {
      "name": "python"
    }
  },
  "nbformat": 4,
  "nbformat_minor": 0
}