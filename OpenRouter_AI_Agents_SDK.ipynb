{
  "cells": [
    {
      "cell_type": "markdown",
      "metadata": {
        "id": "o92NPvIPpmCv"
      },
      "source": [
        "# Use OpenRouter With OpenAI Agents SDK"
      ]
    },
    {
      "cell_type": "markdown",
      "metadata": {
        "id": "l5oT3E8gqY_O"
      },
      "source": [
        "Setup Prerequisite:\n",
        "\n",
        "1. [Signup at OpenRouter](https://openrouter.ai/)\n",
        "2. [Create an API Key](https://openrouter.ai/settings/keys)\n",
        "2. Select a Free Model (you can continue as we are using a free model here)"
      ]
    },
    {
      "cell_type": "markdown",
      "metadata": {
        "id": "-Zh5JPz1qLbD"
      },
      "source": [
        "## Free and Paid Models"
      ]
    },
    {
      "cell_type": "markdown",
      "metadata": {
        "id": "3NksiafzqSg7"
      },
      "source": [
        "The OpenRouter supports the latest DeepSeek V3 0324 and 50+ other models for free. Most of them support the defacto standard: OpenAI Chat Completion API.\n",
        "\n",
        "\n",
        "If you are using a free model variant (with an ID ending in :free), then you will be limited to 20 requests per minute and 200 requests per day.\n",
        "\n",
        "**See all Models List: https://openrouter.ai/models**\n",
        "\n",
        "Note: OpenRouter do not charge anything extra at inference time."
      ]
    },
    {
      "cell_type": "markdown",
      "metadata": {
        "id": "Krf3ozmkpsVs"
      },
      "source": [
        "## Rate Limiting and Crediting"
      ]
    },
    {
      "cell_type": "markdown",
      "metadata": {
        "id": "WhcFykdIqKI4"
      },
      "source": [
        "There are a few rate limits that apply to certain types of requests, regardless of account status:\n",
        "\n",
        "- Free limit: If you are using a free model variant (with an ID ending in :free), then you will be limited to 20 requests per minute and 200 requests per day.\n",
        "\n",
        "If your account has a negative credit balance, you may see 402 errors, including for free models. Adding credits to put your balance above zero allows you to use those models again.\n",
        "\n",
        "[Reference](https://openrouter.ai/docs/api-reference/limits)"
      ]
    },
    {
      "cell_type": "markdown",
      "metadata": {
        "id": "GqX_s5idrryf"
      },
      "source": [
        "## Install OpenAI Agents Dep."
      ]
    },
    {
      "cell_type": "code",
      "execution_count": 8,
      "metadata": {
        "id": "7teAe2rONlBe"
      },
      "outputs": [],
      "source": [
        "!pip install -Uq openai-agents"
      ]
    },
    {
      "cell_type": "code",
      "execution_count": 9,
      "metadata": {
        "id": "z3_PWpn4OIyT"
      },
      "outputs": [],
      "source": [
        "import nest_asyncio\n",
        "nest_asyncio.apply()"
      ]
    },
    {
      "cell_type": "markdown",
      "metadata": {
        "id": "ZTOibVJuN_pi"
      },
      "source": [
        "## Provider Config"
      ]
    },
    {
      "cell_type": "code",
      "execution_count": 10,
      "metadata": {
        "id": "zvmgohqY0-Wm"
      },
      "outputs": [],
      "source": [
        "from google.colab import userdata\n",
        "\n",
        "OPENROUTER_API_KEY = userdata.get(\"OPENROUTER_API_KEY\")"
      ]
    },
    {
      "cell_type": "code",
      "execution_count": 11,
      "metadata": {
        "id": "DeTqCZKGlVk_"
      },
      "outputs": [],
      "source": [
        "#Reference: https://openrouter.ai/docs/quickstart\n",
        "\n",
        "BASE_URL = \"https://openrouter.ai/api/v1\"\n",
        "MODEL = \"mistralai/mistral-small-3.1-24b-instruct:free\"\n",
        "\n",
        "# Some other free models on 26th March:\n",
        "# https://openrouter.ai/deepseek/deepseek-chat-v3-0324:free\n",
        "# https://openrouter.ai/google/gemini-2.5-pro-exp-03-25:free"
      ]
    },
    {
      "cell_type": "markdown",
      "metadata": {
        "id": "IyWF4XNPtI7f"
      },
      "source": [
        "## 1. Using the OpenRouter API directly"
      ]
    },
    {
      "cell_type": "code",
      "execution_count": 12,
      "metadata": {
        "colab": {
          "base_uri": "https://localhost:8080/"
        },
        "id": "e0if6eGutM9h",
        "outputId": "85d109b3-fc29-4486-b47a-cb3c8258dd77"
      },
      "outputs": [
        {
          "output_type": "stream",
          "name": "stdout",
          "text": [
            "{'id': 'gen-1745066182-dl2vL9l7FA0izDwF2dBm', 'provider': 'Chutes', 'model': 'mistralai/mistral-small-3.1-24b-instruct', 'object': 'chat.completion', 'created': 1745066182, 'choices': [{'logprobs': None, 'finish_reason': 'stop', 'native_finish_reason': 'stop', 'index': 0, 'message': {'role': 'assistant', 'content': \"The meaning of life is a philosophical question that has been debated for centuries, and it doesn't have one definitive answer as it can vary greatly depending on personal beliefs, religious or spiritual views, and philosophical persuasions. Here are a few perspectives:\\n\\n1. **Existentialism**: Existentialists like Jean-Paul Sartre argued that life has no inherent meaning, and it's up to each individual to create their own purpose.\\n\\n2. **Religious and Spiritual Views**: Many religions provide their own answers. For example:\\n   - In Christianity, the purpose of life might be seen as loving and serving God.\\n   - In Buddhism, the purpose could be achieving enlightenment.\\n   - In Hinduism, the purpose might be fulfilling one's dharma and ultimately, Moksha (liberation from the cycle of life and death).\\n\\n3. **Hedonism**: Hedonists believe the purpose of life is to seek pleasure and happiness.\\n\\n4. **Altruism**: Some people find meaning in life through helping others and making the world a better place.\\n\\n5. **Personal Growth**: Many people find purpose in learning, growing, and becoming the best version of themselves.\\n\\n6. **Biological Perspective**: From a scientific or biological standpoint, one might say the meaning of life is to survive and reproduce.\\n\\n7. **The Pursuit of Knowledge**: Some people dedicate their lives to learning and understanding the world around them.\\n\\n8. **Virtual Simulacrum**: Some believe that life is a series of experiences shaped and molded by our interactions which act as bookmarks for memory and self-awareness.\\n\\nUltimately, the meaning of life may be a deeply personal and subjective concept. It could be helpful to reflect on what gives your life purpose and what you value most.\", 'refusal': None, 'reasoning': None}}], 'usage': {'prompt_tokens': 10, 'completion_tokens': 360, 'total_tokens': 370}}\n"
          ]
        }
      ],
      "source": [
        "import requests\n",
        "import json\n",
        "\n",
        "response = requests.post(\n",
        "  url=f\"{BASE_URL}/chat/completions\",\n",
        "  headers={\n",
        "    \"Authorization\": f\"Bearer {OPENROUTER_API_KEY}\",\n",
        "  },\n",
        "  data=json.dumps({\n",
        "    \"model\": MODEL,\n",
        "    \"messages\": [\n",
        "      {\n",
        "        \"role\": \"user\",\n",
        "        \"content\": \"What is the meaning of life?\"\n",
        "      }\n",
        "    ]\n",
        "  })\n",
        ")\n",
        "\n",
        "print(response.json())"
      ]
    },
    {
      "cell_type": "code",
      "execution_count": 13,
      "metadata": {
        "colab": {
          "base_uri": "https://localhost:8080/",
          "height": 122
        },
        "id": "mv3B6_oRto5S",
        "outputId": "9324ffcb-a8ef-420b-ed43-28f096f01cdc"
      },
      "outputs": [
        {
          "output_type": "execute_result",
          "data": {
            "text/plain": [
              "\"The meaning of life is a philosophical question that has been debated for centuries, and it doesn't have one definitive answer as it can vary greatly depending on personal beliefs, religious or spiritual views, and philosophical persuasions. Here are a few perspectives:\\n\\n1. **Existentialism**: Existentialists like Jean-Paul Sartre argued that life has no inherent meaning, and it's up to each individual to create their own purpose.\\n\\n2. **Religious and Spiritual Views**: Many religions provide their own answers. For example:\\n   - In Christianity, the purpose of life might be seen as loving and serving God.\\n   - In Buddhism, the purpose could be achieving enlightenment.\\n   - In Hinduism, the purpose might be fulfilling one's dharma and ultimately, Moksha (liberation from the cycle of life and death).\\n\\n3. **Hedonism**: Hedonists believe the purpose of life is to seek pleasure and happiness.\\n\\n4. **Altruism**: Some people find meaning in life through helping others and making the world a better place.\\n\\n5. **Personal Growth**: Many people find purpose in learning, growing, and becoming the best version of themselves.\\n\\n6. **Biological Perspective**: From a scientific or biological standpoint, one might say the meaning of life is to survive and reproduce.\\n\\n7. **The Pursuit of Knowledge**: Some people dedicate their lives to learning and understanding the world around them.\\n\\n8. **Virtual Simulacrum**: Some believe that life is a series of experiences shaped and molded by our interactions which act as bookmarks for memory and self-awareness.\\n\\nUltimately, the meaning of life may be a deeply personal and subjective concept. It could be helpful to reflect on what gives your life purpose and what you value most.\""
            ],
            "application/vnd.google.colaboratory.intrinsic+json": {
              "type": "string"
            }
          },
          "metadata": {},
          "execution_count": 13
        }
      ],
      "source": [
        "data = response.json()\n",
        "data['choices'][0]['message']['content']"
      ]
    },
    {
      "cell_type": "markdown",
      "metadata": {
        "id": "E_jESzWAsu91"
      },
      "source": [
        "## 2. Using OpenAI Agents SDK"
      ]
    },
    {
      "cell_type": "code",
      "execution_count": 14,
      "metadata": {
        "colab": {
          "base_uri": "https://localhost:8080/"
        },
        "id": "QA4vWqtvN6wm",
        "outputId": "2aa8aa23-d938-4097-8627-14cbb32c3bb2"
      },
      "outputs": [
        {
          "output_type": "stream",
          "name": "stdout",
          "text": [
            "A function calls\n",
            "Itself, like a serpent's tail\n",
            "looping, it begins\n"
          ]
        }
      ],
      "source": [
        "import asyncio\n",
        "from openai import AsyncOpenAI\n",
        "from agents import Agent, OpenAIChatCompletionsModel, Runner, set_tracing_disabled\n",
        "\n",
        "client = AsyncOpenAI(\n",
        "    api_key=OPENROUTER_API_KEY,\n",
        "    base_url=BASE_URL\n",
        ")\n",
        "\n",
        "set_tracing_disabled(disabled=True)\n",
        "\n",
        "async def main():\n",
        "    # This agent will use the custom LLM provider\n",
        "    agent = Agent(\n",
        "        name=\"Assistant\",\n",
        "        instructions=\"You only respond in haikus.\",\n",
        "        model=OpenAIChatCompletionsModel(model=MODEL, openai_client=client),\n",
        "    )\n",
        "\n",
        "    result = await Runner.run(\n",
        "        agent,\n",
        "        \"Tell me about recursion in programming.\",\n",
        "    )\n",
        "    print(result.final_output)\n",
        "\n",
        "\n",
        "if __name__ == \"__main__\":\n",
        "    asyncio.run(main())"
      ]
    },
    {
      "cell_type": "markdown",
      "metadata": {
        "id": "1ITyybvkny8G"
      },
      "source": [
        "# OpenRouter 404 Error Solution\n",
        "\n",
        "## Error - No endpoints found matching\n",
        "```python\n",
        "NotFoundError: Error code: 404 - {'error': {'message': 'No endpoints found matching your data policy. Enable prompt training here: https://openrouter.ai/settings/privacy', 'code': 404}}\n",
        "```\n",
        "\n",
        "## Cause\n",
        "This error occurs when OpenRouter API can't find endpoints matching your data policy, typically because prompt training is disabled.\n",
        "\n",
        "## Solution\n",
        "\n",
        "1. **Enable Prompt Training**:\n",
        "   - Visit [OpenRouter Privacy Settings](https://openrouter.ai/settings/privacy)\n",
        "   - Toggle ON \"Prompt Training\" option\n",
        "\n",
        "2. **Re-run your code** after enabling\n",
        "\n",
        "![OpenRouter Settings Screenshot](https://github.com/panaversity/learn-agentic-ai/blob/main/01_ai_agents_first/02_openrouter/openrouter.png?raw=1)\n",
        "*(Example: Enable prompt training in privacy settings)*\n",
        "\n",
        "## Prevention\n",
        "Keep prompt training enabled for uninterrupted API access.\n",
        "```"
      ]
    }
  ],
  "metadata": {
    "colab": {
      "provenance": []
    },
    "kernelspec": {
      "display_name": "Python 3",
      "name": "python3"
    },
    "language_info": {
      "name": "python"
    }
  },
  "nbformat": 4,
  "nbformat_minor": 0
}