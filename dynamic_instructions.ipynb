{
  "nbformat": 4,
  "nbformat_minor": 0,
  "metadata": {
    "colab": {
      "provenance": []
    },
    "kernelspec": {
      "name": "python3",
      "display_name": "Python 3"
    },
    "language_info": {
      "name": "python"
    }
  },
  "cells": [
    {
      "cell_type": "code",
      "execution_count": 13,
      "metadata": {
        "colab": {
          "base_uri": "https://localhost:8080/"
        },
        "id": "YJdbDd50j7lQ",
        "outputId": "f9908b36-b87f-49fb-89d4-019f2c1a3b53"
      },
      "outputs": [
        {
          "output_type": "stream",
          "name": "stderr",
          "text": [
            "/usr/lib/python3.11/pathlib.py:542: RuntimeWarning: coroutine 'main' was never awaited\n",
            "  self._str = self._format_parsed_parts(self._drv, self._root,\n",
            "RuntimeWarning: Enable tracemalloc to get the object allocation traceback\n",
            "/usr/lib/python3.11/pathlib.py:542: RuntimeWarning: coroutine 'AgentRunner.run' was never awaited\n",
            "  self._str = self._format_parsed_parts(self._drv, self._root,\n",
            "RuntimeWarning: Enable tracemalloc to get the object allocation traceback\n",
            "/usr/lib/python3.11/pathlib.py:540: RuntimeWarning: coroutine 'main' was never awaited\n",
            "  return self._str\n",
            "RuntimeWarning: Enable tracemalloc to get the object allocation traceback\n"
          ]
        }
      ],
      "source": [
        "!pip install -qU openai-agents"
      ]
    },
    {
      "cell_type": "code",
      "source": [
        "import nest_asyncio\n",
        "nest_asyncio.apply()"
      ],
      "metadata": {
        "id": "O9GwVMuQq0jE"
      },
      "execution_count": 18,
      "outputs": []
    },
    {
      "cell_type": "code",
      "source": [
        "import os\n",
        "from google.colab import userdata\n",
        "os.environ[\"OPENAI_API_KEY\"] = userdata.get('OPENAI_API_KEY')"
      ],
      "metadata": {
        "id": "yTegTQ99kDlk"
      },
      "execution_count": 14,
      "outputs": []
    },
    {
      "cell_type": "code",
      "source": [
        "import asyncio\n",
        "\n",
        "from openai.types.responses import ResponseTextDeltaEvent\n",
        "\n",
        "from agents import Agent, Runner, function_tool, RunContextWrapper\n",
        "from dataclasses import dataclass\n",
        "\n",
        "@function_tool\n",
        "def get_weather(city:str):\n",
        "  \"\"\"Gets weather for a city\"\"\"\n",
        "  return f\"The weather in {city} is sunny\"\n",
        "\n",
        "@dataclass\n",
        "class CustomContext():\n",
        "  name:str\n",
        "  age:int\n",
        "\n",
        "context = CustomContext(name=\"Suhaib\", age=18)\n",
        "\n",
        "def custom_instructions(\n",
        "    run_context: RunContextWrapper[CustomContext], agent: Agent[CustomContext]\n",
        ") -> str:\n",
        "    context = run_context.context\n",
        "    return f\"You are a specialized assistant for {context.name}\"\n",
        "\n",
        "async def main():\n",
        "    agent = Agent(\n",
        "        name=\"Assistant\",\n",
        "        instructions=custom_instructions,\n",
        "        model=\"gpt-4.1\",\n",
        "        tools=[get_weather]\n",
        "\n",
        "    )\n",
        "\n",
        "    result = Runner.run_streamed(agent, input=\"What is the weather in New York?\",context=context)\n",
        "    async for event in result.stream_events():\n",
        "        if event.type == \"raw_response_event\" and isinstance(event.data, ResponseTextDeltaEvent):\n",
        "            print(event.data.delta, end=\"\", flush=True)\n",
        "        elif event.type == \"agent_updated_stream_event\":\n",
        "            print(f\"Agent updated: {event.new_agent.name}\")\n",
        "        elif event.type == \"run_item_stream_event\":\n",
        "          print(event.name)\n",
        "\n",
        "\n",
        "\n",
        "asyncio.run(main())"
      ],
      "metadata": {
        "colab": {
          "base_uri": "https://localhost:8080/"
        },
        "id": "5TMhVVQ4o8f5",
        "outputId": "7533fccc-accc-4943-df1b-6aedf5580922"
      },
      "execution_count": 19,
      "outputs": [
        {
          "output_type": "stream",
          "name": "stderr",
          "text": [
            "/usr/lib/python3.11/tokenize.py:529: RuntimeWarning: coroutine 'main' was never awaited\n",
            "  pseudomatch = _compile(PseudoToken).match(line, pos)\n",
            "RuntimeWarning: Enable tracemalloc to get the object allocation traceback\n"
          ]
        },
        {
          "output_type": "stream",
          "name": "stdout",
          "text": [
            "Agent updated: Assistant\n",
            "tool_called\n",
            "tool_output\n",
            "The weather in New York is currently sunny. If you need more specific details like temperature or forecast, let me know!message_output_created\n"
          ]
        }
      ]
    }
  ]
}