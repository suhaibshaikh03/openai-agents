{
  "nbformat": 4,
  "nbformat_minor": 0,
  "metadata": {
    "colab": {
      "provenance": []
    },
    "kernelspec": {
      "name": "python3",
      "display_name": "Python 3"
    },
    "language_info": {
      "name": "python"
    }
  },
  "cells": [
    {
      "cell_type": "code",
      "source": [
        "import nest_asyncio\n",
        "nest_asyncio.apply()"
      ],
      "metadata": {
        "id": "9vfioxlYRpZx"
      },
      "execution_count": 1,
      "outputs": []
    },
    {
      "cell_type": "code",
      "execution_count": 2,
      "metadata": {
        "colab": {
          "base_uri": "https://localhost:8080/"
        },
        "id": "GwQErSU2Qm3D",
        "outputId": "2f88df24-781e-4720-9268-da35280b3130"
      },
      "outputs": [
        {
          "output_type": "stream",
          "name": "stdout",
          "text": [
            "Total time taken: 5.000283241271973\n"
          ]
        }
      ],
      "source": [
        "import time\n",
        "import asyncio\n",
        "\n",
        "async def test_math():\n",
        "  time.sleep(2)\n",
        "  return 2+3\n",
        "\n",
        "async def test_english():\n",
        "  time.sleep(3)\n",
        "  return \"Hello\"\n",
        "\n",
        "\n",
        "async def main():\n",
        "  start_time = time.time()\n",
        "  await test_math() # synchronus execution. when the output of test _math will come then it will go the next line\n",
        "  await test_english()\n",
        "  end_time = time.time()\n",
        "  print(f\"Total time taken: {end_time - start_time}\")\n",
        "\n",
        "\n",
        "if __name__ == \"__main__\":\n",
        "  asyncio.run(main())"
      ]
    },
    {
      "cell_type": "code",
      "source": [
        "import time\n",
        "import asyncio\n",
        "\n",
        "async def test_math():\n",
        "  print(\"test math\")\n",
        "  time.sleep(2)\n",
        "  return 2+3\n",
        "\n",
        "async def test_english():\n",
        "  print(\"test english\")\n",
        "  time.sleep(3)\n",
        "  return \"Hello\"\n",
        "\n",
        "\n",
        "async def main():\n",
        "  start_time = time.time()\n",
        "  # await test_math() # synchronus execution. when the output of test _math will come then it will go the next line\n",
        "  # await test_english()\n",
        "  await asyncio.gather(test_math(), test_english())\n",
        "  end_time = time.time()\n",
        "  print(f\"Total time taken: {end_time - start_time}\")\n",
        "\n",
        "\n",
        "if __name__ == \"__main__\":\n",
        "  asyncio.run(main())"
      ],
      "metadata": {
        "colab": {
          "base_uri": "https://localhost:8080/"
        },
        "id": "g4jBPiXwp8zp",
        "outputId": "963e0b07-22fe-44ba-c137-8dbded374a0f"
      },
      "execution_count": 7,
      "outputs": [
        {
          "output_type": "stream",
          "name": "stdout",
          "text": [
            "test math\n",
            "test english\n",
            "Total time taken: 5.000988483428955\n"
          ]
        }
      ]
    },
    {
      "cell_type": "code",
      "source": [
        "import time\n",
        "import asyncio\n",
        "\n",
        "async def test_math():\n",
        "  print(\"test math\")\n",
        "  await asyncio.sleep(2)\n",
        "  return 2+3\n",
        "\n",
        "async def test_english():\n",
        "  print(\"test english\")\n",
        "  await asyncio.sleep(3)\n",
        "  return \"Hello\"\n",
        "\n",
        "\n",
        "async def main():\n",
        "  start_time = time.time()\n",
        "  # await test_math() # synchronus execution. when the output of test _math will come then it will go the next line\n",
        "  # await test_english()\n",
        "  await asyncio.gather(test_math(), test_english())\n",
        "  end_time = time.time()\n",
        "  print(f\"Total time taken: {end_time - start_time}\")\n",
        "\n",
        "\n",
        "if __name__ == \"__main__\":\n",
        "  asyncio.run(main())"
      ],
      "metadata": {
        "colab": {
          "base_uri": "https://localhost:8080/"
        },
        "id": "dCCQrWS7RIYI",
        "outputId": "ff97e3be-b4f6-4f98-f7a8-fb32027b2022"
      },
      "execution_count": 8,
      "outputs": [
        {
          "output_type": "stream",
          "name": "stdout",
          "text": [
            "test math\n",
            "test english\n",
            "Total time taken: 3.0022706985473633\n"
          ]
        }
      ]
    }
  ]
}